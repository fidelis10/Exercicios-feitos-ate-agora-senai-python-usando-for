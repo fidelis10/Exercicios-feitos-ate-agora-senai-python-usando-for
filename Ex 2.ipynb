{
  "nbformat": 4,
  "nbformat_minor": 0,
  "metadata": {
    "colab": {
      "provenance": []
    },
    "kernelspec": {
      "name": "python3",
      "display_name": "Python 3"
    },
    "language_info": {
      "name": "python"
    }
  },
  "cells": [
    {
      "cell_type": "code",
      "execution_count": null,
      "metadata": {
        "id": "_1PbPjr729H7"
      },
      "outputs": [],
      "source": []
    },
    {
      "cell_type": "markdown",
      "source": [
        "Faça um programa que mostre o total de quantos produtos um cliente comprou e o total do valor do carrinho de uma loja, contendo três produtos, sendo eles: camisas, shorts e tênis.)"
      ],
      "metadata": {
        "id": "Ot0NQ-z629gO"
      }
    },
    {
      "cell_type": "code",
      "source": [
        "tshirts = int(input(\"Digite quantas camisas você vai comprar: \"))\n",
        "camisas = 0\n",
        "valorcamisas = 0\n",
        "quantidadedetenis = 0\n",
        "valortenis = 0\n",
        "quantidadedeshorts = 0\n",
        "valorshorts = 0\n",
        "shoes = int(input(\"Digite quantos tenis voce vai comprar: \"))\n",
        "shorts = int(input(\"Digite quantos shorts voce vai comprar: \"))\n",
        "for i in range(1, tshirts+1):\n",
        " camisa = float(input(f\"Digite o valor da {i}ª camisa que você quer comprar: \"))\n",
        " camisas += 1\n",
        " valorcamisas += camisa\n",
        "for o in range(1,shoes+1 ) :\n",
        " tenis = float(input(f\"Digite o valor da {o}ª tênis que você quer comprar: \"))\n",
        " quantidadedetenis += 1\n",
        " valortenis += tenis\n",
        "for u in range(1, shorts+1) :\n",
        " shorts = float(input(f\"Digite o valor do {u}ª shorts que você quer comprar: \"))\n",
        " quantidadedeshorts += 1\n",
        " valorshorts+= shorts\n",
        "print(f\"Voce adquiriu {camisas + quantidadedetenis + quantidadedeshorts} produtos e o valor total é de R${valorcamisas + valortenis + valorshorts}\t\")"
      ],
      "metadata": {
        "colab": {
          "base_uri": "https://localhost:8080/"
        },
        "id": "CluM9MyW2-E_",
        "outputId": "aebdfe60-0dc8-4434-8d29-4aa924825396"
      },
      "execution_count": 1,
      "outputs": [
        {
          "output_type": "stream",
          "name": "stdout",
          "text": [
            "Digite quantas camisas você vai comprar: 1\n",
            "Digite quantos tenis voce vai comprar: 1\n",
            "Digite quantos shorts voce vai comprar: 1\n",
            "Digite o valor da 1ª camisa que você quer comprar: 200\n",
            "Digite o valor da 1ª tênis que você quer comprar: 200\n",
            "Digite o valor do 1ª shorts que você quer comprar: 200\n",
            "Voce adquiriu 3 produtos e o valor total é de R$600.0\t\n"
          ]
        }
      ]
    },
    {
      "cell_type": "markdown",
      "source": [
        "Faça um programa que mostre numeros de 1 a 10 e mostre quais sao os numeros pares e mostrar em ordem crescente e ordem decresente. (usando for)"
      ],
      "metadata": {
        "id": "9EUByQtL3P6y"
      }
    },
    {
      "cell_type": "code",
      "source": [
        "print(\"Números em ordem crescente:\")\n",
        "for pares in range(2, 11, 2):\n",
        " print(pares, end=\" \")\n",
        "print(\"\\nNúmeros em ordem decrescente:\")\n",
        "for pares in range(10, -2, -2):\n",
        " print(pares, end=\" \")"
      ],
      "metadata": {
        "colab": {
          "base_uri": "https://localhost:8080/"
        },
        "id": "_4da5DFO3R-Z",
        "outputId": "d8321537-54b9-453d-92d7-0225ae065ed2"
      },
      "execution_count": 2,
      "outputs": [
        {
          "output_type": "stream",
          "name": "stdout",
          "text": [
            "Números em ordem crescente:\n",
            "2 4 6 8 10 \n",
            "Números em ordem decrescente:\n",
            "10 8 6 4 2 0 "
          ]
        }
      ]
    }
  ]
}