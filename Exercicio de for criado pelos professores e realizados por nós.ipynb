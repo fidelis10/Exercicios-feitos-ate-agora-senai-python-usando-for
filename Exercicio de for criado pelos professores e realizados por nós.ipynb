{
  "nbformat": 4,
  "nbformat_minor": 0,
  "metadata": {
    "colab": {
      "provenance": []
    },
    "kernelspec": {
      "name": "python3",
      "display_name": "Python 3"
    },
    "language_info": {
      "name": "python"
    }
  },
  "cells": [
    {
      "cell_type": "code",
      "execution_count": null,
      "metadata": {
        "id": "t5ARTheuyWec"
      },
      "outputs": [],
      "source": []
    },
    {
      "cell_type": "markdown",
      "source": [
        "Faça um programa que leia 5 números e informe o maior número.\n"
      ],
      "metadata": {
        "id": "KsAPyc7dyYSu"
      }
    },
    {
      "cell_type": "code",
      "source": [
        "maior_numero = 0\n",
        "for i in range(5):\n",
        "  numero = float(input(f\"Digite o {i+1} número: \"))\n",
        "  if numero > maior_numero :\n",
        "    maior_numero = numero\n",
        "print(f\"O {maior_numero} e o maior número : \")\n"
      ],
      "metadata": {
        "id": "VbbE_M4MyZus"
      },
      "execution_count": null,
      "outputs": []
    },
    {
      "cell_type": "markdown",
      "source": [
        "Faça um programa que verifique e mostre os números entre 1.000 e 2.000\n",
        "(inclusive) que, quando divididos por 11 produzam resto igual a 2.\n",
        "\n"
      ],
      "metadata": {
        "id": "fPIoCO76ybzf"
      }
    },
    {
      "cell_type": "code",
      "source": [
        "for contadores in range(1000, 2001):\n",
        "  if contadores % 11 == 2:\n",
        "   print(contadores)\n"
      ],
      "metadata": {
        "id": "Aw0dzDHeye3H"
      },
      "execution_count": null,
      "outputs": []
    },
    {
      "cell_type": "markdown",
      "source": [
        "Faça um programa que leia 5 números e informe a soma e a média dos\n",
        "números.\n"
      ],
      "metadata": {
        "id": "8TPoWOVTyhD5"
      }
    },
    {
      "cell_type": "code",
      "source": [
        "soma = 0\n",
        "for i in range(5) :\n",
        " numero = float(input(f\"Digite o {i+1}  número\")) #i + 1 serve para colocar número no meio do texto\n",
        " soma += numero # soma vai receber o valor de soma mais número\n",
        " media = soma/5\n",
        "print(f\"A soma dos números é {soma}\")\n",
        "print(f\"A media dos números é {media}\")\n"
      ],
      "metadata": {
        "id": "A0hjX6I2yivH"
      },
      "execution_count": null,
      "outputs": []
    },
    {
      "cell_type": "markdown",
      "source": [
        "Faça um programa que receba um número e usando laços de repetição\n",
        "calcule e mostre a tabuada desse número.\n"
      ],
      "metadata": {
        "id": "vBxAfs5eyk5p"
      }
    },
    {
      "cell_type": "code",
      "source": [
        "numero = float(input(\"Digite o numero \"))\n",
        "for i in range(1,11) :\n",
        "  resultado = numero * i\n",
        "  print(f\"{numero} x {i} = {resultado} \")\n"
      ],
      "metadata": {
        "id": "e0J2MK9Sym1J"
      },
      "execution_count": null,
      "outputs": []
    },
    {
      "cell_type": "markdown",
      "source": [
        "Faça um programa que mostre as tabuadas dos números de 1 a 10 usando\n",
        "laços de repetição.\n"
      ],
      "metadata": {
        "id": "fTQ34qolypAu"
      }
    },
    {
      "cell_type": "code",
      "source": [
        "for tabuada in range(1,11):\n",
        "  for numero in range(1,11):\n",
        "    resultado = tabuada * numero\n",
        "    print(f\"{tabuada} X {numero} = {resultado}\")\n"
      ],
      "metadata": {
        "id": "wuoBqdRXyqmM"
      },
      "execution_count": null,
      "outputs": []
    },
    {
      "cell_type": "markdown",
      "source": [
        "Faça um programa que imprima na tela os números de 1 a 20, um abaixo\n",
        "do outro. Depois modifique o programa para que ele mostre os números\n",
        "um ao lado do outro.\n",
        "\n"
      ],
      "metadata": {
        "id": "8iJlkaCEysH7"
      }
    },
    {
      "cell_type": "code",
      "source": [
        "for i in range(1,21) :\n",
        " print(i)\n",
        "print(list(range(1,21)))\n"
      ],
      "metadata": {
        "id": "5zKX5g3Uyt8K"
      },
      "execution_count": null,
      "outputs": []
    },
    {
      "cell_type": "markdown",
      "source": [
        "Faça um programa que imprima na tela apenas os números ímpares entre\n",
        "1 e 50.\n"
      ],
      "metadata": {
        "id": "VzhSxNfNyvYC"
      }
    },
    {
      "cell_type": "code",
      "source": [
        "for i in range(1,51) :\n",
        "  if i % 2 == 1 :\n",
        "   print(i)\n"
      ],
      "metadata": {
        "id": "qdP_pv8xywgl"
      },
      "execution_count": null,
      "outputs": []
    },
    {
      "cell_type": "markdown",
      "source": [
        "Faça um programa que receba dois números inteiros e gere os números\n",
        "inteiros que estão no intervalo compreendido por eles.\n",
        "\n",
        "\n"
      ],
      "metadata": {
        "id": "-K8NBmWCyx7a"
      }
    },
    {
      "cell_type": "code",
      "source": [
        "numero = int(input(\"Digite o valor do primeiro número \"))\n",
        "numero2 = int(input(\"Digite o valor do segundo número \"))\n",
        "for i in range (numero +1 , numero2):\n",
        " print(i)\n",
        "for i in range (numero2 +1, numero ):\n",
        " print(i)\n"
      ],
      "metadata": {
        "id": "oCwPghW7y0NP"
      },
      "execution_count": null,
      "outputs": []
    },
    {
      "cell_type": "markdown",
      "source": [
        "Uma loja deseja cadastrar 5 clientes e verificar se o faturamento da loja foi\n",
        "superior a loja B (faturamento = 54000). Se o faturamento atingir esse valor\n",
        "mostre na tela uma mensagem contendo em quanto foi superado o\n",
        "faturamento.\n"
      ],
      "metadata": {
        "id": "aIMdP_mwy2zl"
      }
    },
    {
      "cell_type": "code",
      "source": [
        "lojab= 54000\n",
        "lojaA= 0\n",
        "for i in range(5) :\n",
        " valorfaturamento = float(input(f\"Digite o valor do cliente {i+1} \"))\n",
        " lojaA += valorfaturamento\n",
        "if lojaA > lojab :\n",
        "  print(\"O faturamento da loja A superou a da loja B em R$\", lojaA-lojab)\n",
        "elif lojab > lojaA:\n",
        "  print(\"O faturamento da loja B superou a loja A em R$\", lojab- lojaA)\n",
        "else:\n",
        "  print(\"O valor do faturamento foi igual das duas lojas\")\n"
      ],
      "metadata": {
        "id": "IIg5DFkwy4Go"
      },
      "execution_count": null,
      "outputs": []
    },
    {
      "cell_type": "markdown",
      "source": [
        "Faça um programa que peça 10 números inteiros, calcule e mostre a\n",
        "quantidade de números pares e a quantidade de números impares.\n"
      ],
      "metadata": {
        "id": "h88jj3Sby6Oy"
      }
    },
    {
      "cell_type": "code",
      "source": [
        "numeroimpar = 0\n",
        "numeropar = 0\n",
        "for i in range(10) :\n",
        "  numero = int(input(\"Digite um número inteiro \"))\n",
        "  if numero % 2 == 0 :\n",
        "    numeropar += 1\n",
        "  else:\n",
        "    numeroimpar += 1\n",
        "print(\"Temos esse total de números impares\", numeroimpar)\n",
        "print(\"Temos esse total de números pares\", numeropar)\n"
      ],
      "metadata": {
        "id": "g5GjMORBy7r8"
      },
      "execution_count": null,
      "outputs": []
    },
    {
      "cell_type": "markdown",
      "source": [
        "Faça um programa que peça uma nota, entre zero e dez. Mostre uma\n",
        "mensagem caso o valor seja inválido e continue pedindo até que o usuário\n",
        "informe um valor válido.\n"
      ],
      "metadata": {
        "id": "lcNxXK1ny9hM"
      }
    },
    {
      "cell_type": "code",
      "source": [
        "for i in range(10):\n",
        "  nota = float(input(\"Digite uma nota de 0 a 10 \"))\n",
        "  if nota < 0 or nota > 10 :\n",
        "    print(\"Valor inválido. Insira um valor válido\")\n",
        "  else:\n",
        "    print(\"Nota válida\")\n",
        "    break;\n"
      ],
      "metadata": {
        "id": "MrJnTYbSy_FT"
      },
      "execution_count": null,
      "outputs": []
    },
    {
      "cell_type": "markdown",
      "source": [
        "Faça um programa que receba a idade de 15 pessoas e que calcule e\n",
        "mostre:\n",
        "a) A quantidade de pessoas em cada faixa etária;\n",
        "b) A percentagem de pessoas na primeira e na última faixa etária, com relação\n",
        "ao total de pessoas:\n",
        "• Até 15 anos\n",
        "• De 16 a 30 anos\n",
        "• De 31 a 45 anos\n",
        "• De 46 a 60 anos\n",
        "• Acima de 61 anos\n"
      ],
      "metadata": {
        "id": "rGtzuMiQzA-4"
      }
    },
    {
      "cell_type": "code",
      "source": [
        "faixaate15anos = 0\n",
        "faixados16a30anos = 0\n",
        "faixados31a45anos = 0\n",
        "faixados45a60anos = 0\n",
        "faixadosacimade60anos = 0\n",
        "for i in range(15) :\n",
        " idade = int(input(\"Digite sua idade \"))\n",
        " if idade <=15 :\n",
        "  faixaate15anos +=1\n",
        " elif idade >=16 and idade <=30 :\n",
        "   faixados16a30anos +=1\n",
        " elif idade >=31 and idade <=45 :\n",
        "   faixados31a45anos +=1\n",
        " elif idade >=45 and idade <=60 :\n",
        "  faixados45a60anos +=1\n",
        " elif idade > 60 :\n",
        "  faixadosacimade60anos +=1\n",
        "porcentagemdepessoasdafaixaate15anos = (faixaate15anos / 15) * 100\n",
        "porcentagemdepessoasdafaixadosacimade60anos = (faixadosacimade60anos / 15) * 100\n",
        "print(f\"Quantidade de pessoas por faixa etária\\nAté 15 anos: {faixaate15anos} pessoas\\nDe 16 a 30 anos: {faixados16a30anos} pessoas\\nDe 31 a 45 anos : {faixados31a45anos} pessoas\\nDe 46 a 60 anos: {faixados45a60anos} pessoas\\nAcima de 60 anos: {faixadosacimade60anos }\")\n",
        "print(f\"Porcentagem de pessoas na faixa etária até 15 anos: {porcentagemdepessoasdafaixaate15anos}\\nPorcentagem de pessoas na faixa etária acima dos 60 anos: {porcentagemdepessoasdafaixadosacimade60anos}\", )\n"
      ],
      "metadata": {
        "id": "C9zRvM77zDAh"
      },
      "execution_count": null,
      "outputs": []
    },
    {
      "cell_type": "markdown",
      "source": [
        "Faça um programa que peça dois números, base e expoente, calcule e\n",
        "mostre o primeiro número elevado ao segundo número. Não utilize a\n",
        "função de potência da linguagem.\n"
      ],
      "metadata": {
        "id": "_5gN_6E0zFkM"
      }
    },
    {
      "cell_type": "code",
      "source": [
        "]resultado = 1\n",
        "base = int(input(\"Digite a base \"))\n",
        "expoente = int(input(\"Digite o expoente \"))\n",
        "for i in range(expoente) :\n",
        " resultado *= base\n",
        "print(f\"{base} elevado a {expoente} e igual a {resultado}\")\n"
      ],
      "metadata": {
        "colab": {
          "base_uri": "https://localhost:8080/"
        },
        "id": "BzoW3KlHzHXV",
        "outputId": "9662354f-f26f-494c-becd-165cff62ed9c"
      },
      "execution_count": 13,
      "outputs": [
        {
          "output_type": "stream",
          "name": "stdout",
          "text": [
            "Digite a base 2\n",
            "Digite o expoente 3\n",
            "2 elevado a 3 e igual a 8\n"
          ]
        }
      ]
    },
    {
      "cell_type": "markdown",
      "source": [
        "Uma loja tem tem uma política de descontos de acordo com o valor da\n",
        "compra do cliente. Os descontos começam acima dos R$500. A cada 100\n",
        "reais acima dos R$500,00 o cliente ganha 1% de desconto cumulativo até\n",
        "25%.\n",
        "Por exemplo: R$500 = 1% || R$600,00 = 2% ... etc...\n",
        "Faça um programa que exiba essa tabela de descontos no seguinte formato:\n",
        "Valordacompra – porcentagem de desconto – valor final"
      ],
      "metadata": {
        "id": "KV1kKJXSzIxb"
      }
    },
    {
      "cell_type": "code",
      "source": [
        "valor = float(input(\"Digite o valor da compra: \"))\n",
        "contagem = 1\n",
        "if valor >= 600 and contagem: #verifica se o valor da compra é maior que 600 e se contagem é diferente de zero # o que sempre será verdadeiro, pois a contagem começa com 1\n",
        "  reduzido = valor - 500 #calcula o valor reduzido subtraindo 500 do valor da compra\n",
        "  if reduzido >= 100 or contagem <=24 : #verifica se o valor reduzido é maior ou igual a 100 ou se a contagem for menor ou igual a 24\n",
        "    for x in range(999) : #loop que intera 999 vezes\n",
        "      contagem += 1 #incrementando a contagem\n",
        "      reduzido -= 100 #reduz o valor em R$100\n",
        "    if reduzido < 100 or contagem == 24: #verifica se o valor reduzido é menor que R$100 ou se a contagem é igual a 24\n",
        "      break # sai do loop\n",
        "porcentagem = contagem / 100\n",
        "desconto = valor * porcentagem\n",
        "final = valor - desconto\n",
        "print(f\"O produto de R${valor:,2f} ficara a partir de R${final} com {contagem:.0f} % de desconto\")\n"
      ],
      "metadata": {
        "colab": {
          "base_uri": "https://localhost:8080/",
          "height": 124
        },
        "id": "FH067pZlzKFz",
        "outputId": "19036f0c-93e3-4ae5-822b-34aecbf2db64"
      },
      "execution_count": 12,
      "outputs": [
        {
          "name": "stdout",
          "output_type": "stream",
          "text": [
            "Digite o valor da compra: 400\n"
          ]
        },
        {
          "output_type": "error",
          "ename": "SyntaxError",
          "evalue": "'break' outside loop (<ipython-input-12-a58dde4bbcf4>, line 10)",
          "traceback": [
            "\u001b[0;36m  File \u001b[0;32m\"<ipython-input-12-a58dde4bbcf4>\"\u001b[0;36m, line \u001b[0;32m10\u001b[0m\n\u001b[0;31m    break # sai do loop\u001b[0m\n\u001b[0m    ^\u001b[0m\n\u001b[0;31mSyntaxError\u001b[0m\u001b[0;31m:\u001b[0m 'break' outside loop\n"
          ]
        }
      ]
    },
    {
      "cell_type": "markdown",
      "source": [
        "Um funcionário de uma empresa recebe aumento salarial anualmente:\n",
        "Sabe-se que:\n",
        "Esse funcionário foi contratado em 1995, com salário inicial de R$ 1.000,00;\n",
        "Em 1996 recebeu aumento de 1,5% sobre seu salário inicial; A partir de\n",
        "1997 (inclusive), os aumentos salariais sempre correspondem ao dobro do\n",
        "percentual do ano anterior. Faça um programa que determine o salário\n",
        "atual desse funcionário. Após concluir isto, altere o programa permitindo\n",
        "que o usuário digite o salário inicial do funcionário.\n",
        "\n",
        "\n"
      ],
      "metadata": {
        "id": "uaiHr6gezN08"
      }
    },
    {
      "cell_type": "code",
      "source": [
        "salario = 1000.0\n",
        "anoatual = 1997\n",
        "anoprimeirosalario = 1995\n",
        "porcentagemsalarial = 1.5 / 100\n",
        "\n",
        "for i in range(anoprimeirosalario , anoatual) :\n",
        " aumento = salario * porcentagemsalarial\n",
        " porcentagemsalarial *= 2\n",
        " salario += aumento\n",
        "print(f\"O salário atual do funcionário em {anoatual} é R$ {salario}\")\n"
      ],
      "metadata": {
        "colab": {
          "base_uri": "https://localhost:8080/"
        },
        "id": "b4JGv1UwzWPY",
        "outputId": "5feed361-2146-4009-93d2-720912af4351"
      },
      "execution_count": 10,
      "outputs": [
        {
          "output_type": "stream",
          "name": "stdout",
          "text": [
            "O salário atual do funcionário em 1997 é R$ 1045.45\n"
          ]
        }
      ]
    },
    {
      "cell_type": "code",
      "source": [
        "anoatual = 1997\n",
        "anoprimeirosalario = 1995\n",
        "porcentagemsalarial = 1.5 / 100\n",
        "salario = float(input(\"Digite o valor do seu salário inicial \"))\n",
        "\n",
        "for ano in range(anoprimeirosalario , anoatual) :\n",
        "  aumento = salario * porcentagemsalarial\n",
        "  porcentagemsalarial *= 2\n"
      ],
      "metadata": {
        "colab": {
          "base_uri": "https://localhost:8080/"
        },
        "id": "4xfTKSy31ltB",
        "outputId": "d9a9c46f-7690-4df8-9cb0-494502fcfe5c"
      },
      "execution_count": 9,
      "outputs": [
        {
          "name": "stdout",
          "output_type": "stream",
          "text": [
            "Digite o valor do seu salário inicial 5000\n"
          ]
        }
      ]
    },
    {
      "cell_type": "markdown",
      "source": [
        "Faça um programa que mostre todos os primos entre 1 e N sendo N um\n",
        "número inteiro fornecido pelo usuário. O programa deverá mostrar também\n",
        "o número de divisões que ele executou para encontrar os números primos.\n",
        "Serão avaliados o funcionamento, o estilo e o número de testes (divisões)\n",
        "executados.\n",
        "\n"
      ],
      "metadata": {
        "id": "jnBKMBFTzcSF"
      }
    },
    {
      "cell_type": "code",
      "source": [
        "divisoes = 0\n",
        "N = int(input(\"Digite um número inteiro maior que 1: \"))\n",
        "if N == 1 :\n",
        "  print(\"Esse valor não é valido\")\n",
        "for numero in range(2, N):\n",
        "  primo = True\n",
        "  for i in range(2, int(numero**0.5) + 1):\n",
        "        divisoes += 1\n",
        "        if numero % i == 0:\n",
        "            primo = False\n",
        "            break\n",
        "  if primo :\n",
        "         print(numero)\n",
        "print(\"Número de divisões:\", divisoes)\n"
      ],
      "metadata": {
        "colab": {
          "base_uri": "https://localhost:8080/"
        },
        "id": "8s6Fk-Tmzdd-",
        "outputId": "a4c12002-3696-4250-ee85-5961275a4690"
      },
      "execution_count": 5,
      "outputs": [
        {
          "output_type": "stream",
          "name": "stdout",
          "text": [
            "Digite um número inteiro maior que 1: 5\n",
            "2\n",
            "3\n",
            "Número de divisões: 1\n"
          ]
        }
      ]
    }
  ]
}